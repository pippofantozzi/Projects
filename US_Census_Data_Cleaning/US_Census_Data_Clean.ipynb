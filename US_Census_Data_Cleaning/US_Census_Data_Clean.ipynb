{
 "cells": [
  {
   "cell_type": "code",
   "execution_count": 6,
   "metadata": {},
   "outputs": [
    {
     "name": "stdout",
     "output_type": "stream",
     "text": [
      "   Unnamed: 0       State  TotalPop Hispanic   White   Black  Native   Asian  \\\n",
      "0           0     Alabama   4830620    3.75%  61.88%  31.25%   0.45%   1.05%   \n",
      "1           1      Alaska    733375    5.91%  60.91%   2.85%  16.39%   5.45%   \n",
      "2           2     Arizona   6641928   29.57%  57.12%   3.85%   4.36%   2.88%   \n",
      "3           3    Arkansas   2958208    6.22%  71.14%  18.97%   0.52%   1.14%   \n",
      "4           4  California  38421464   37.29%  40.22%   5.68%   0.41%  13.05%   \n",
      "\n",
      "  Pacific       Income            GenderPop  \n",
      "0   0.03%  $43,296.36     2341093M_2489527F  \n",
      "1   1.06%  $70,354.74       384160M_349215F  \n",
      "2   0.17%  $54,207.82     3299088M_3342840F  \n",
      "3   0.15%  $41,935.63     1451913M_1506295F  \n",
      "4   0.35%  $67,264.78   19087135M_19334329F  \n",
      "Unnamed: 0     int64\n",
      "State         object\n",
      "TotalPop       int64\n",
      "Hispanic      object\n",
      "White         object\n",
      "Black         object\n",
      "Native        object\n",
      "Asian         object\n",
      "Pacific       object\n",
      "Income        object\n",
      "GenderPop     object\n",
      "dtype: object\n",
      "Index(['Unnamed: 0', 'State', 'TotalPop', 'Hispanic', 'White', 'Black',\n",
      "       'Native', 'Asian', 'Pacific', 'Income', 'GenderPop'],\n",
      "      dtype='object')\n"
     ]
    }
   ],
   "source": [
    "import pandas as pd\n",
    "import numpy as np\n",
    "import matplotlib.pyplot as plt\n",
    "import glob\n",
    "\n",
    "census = glob.glob('states*.csv')\n",
    "\n",
    "census_files = []\n",
    "for file in census:\n",
    "  read = pd.read_csv(file)\n",
    "  census_files.append(read)\n",
    "census = pd.concat(census_files)\n",
    "\n",
    "print(census.head())\n",
    "print(census.dtypes)\n",
    "print(census.columns)"
   ]
  },
  {
   "cell_type": "code",
   "execution_count": 7,
   "metadata": {},
   "outputs": [
    {
     "name": "stdout",
     "output_type": "stream",
     "text": [
      "   TotalPop       State       Income            GenderPop Ethnicity  \\\n",
      "0   4830620     Alabama  $43,296.36     2341093M_2489527F  Hispanic   \n",
      "1    733375      Alaska  $70,354.74       384160M_349215F  Hispanic   \n",
      "2   6641928     Arizona  $54,207.82     3299088M_3342840F  Hispanic   \n",
      "3   2958208    Arkansas  $41,935.63     1451913M_1506295F  Hispanic   \n",
      "4  38421464  California  $67,264.78   19087135M_19334329F  Hispanic   \n",
      "\n",
      "  Percentage  Percentage Numerical  Income N  MalePopulation  FemalePopulation  \n",
      "0      3.75%                  3.75  43296.36         2341093         2489527.0  \n",
      "1      5.91%                  5.91  70354.74          384160          349215.0  \n",
      "2     29.57%                 29.57  54207.82         3299088         3342840.0  \n",
      "3      6.22%                  6.22  41935.63         1451913         1506295.0  \n",
      "4     37.29%                 37.29  67264.78        19087135        19334329.0  \n",
      "TotalPop                  int64\n",
      "State                    object\n",
      "Income                   object\n",
      "GenderPop                object\n",
      "Ethnicity                object\n",
      "Percentage               object\n",
      "Percentage Numerical    float64\n",
      "Income N                float64\n",
      "MalePopulation            int64\n",
      "FemalePopulation        float64\n",
      "dtype: object\n",
      "Index(['TotalPop', 'State', 'Income', 'GenderPop', 'Ethnicity', 'Percentage',\n",
      "       'Percentage Numerical', 'Income N', 'MalePopulation',\n",
      "       'FemalePopulation'],\n",
      "      dtype='object')\n"
     ]
    }
   ],
   "source": [
    "census = pd.melt(frame=census,id_vars=['TotalPop','State','Income','GenderPop'],value_vars=['Hispanic','White','Black','Native','Asian','Pacific'],value_name = 'Percentage',var_name = 'Ethnicity')\n",
    "census['Percentage Numerical'] = census.Percentage.str[:-1]\n",
    "census['Percentage Numerical'] = pd.to_numeric(census['Percentage Numerical'])\n",
    "census['Percentage Numerical'] = round(census['Percentage Numerical'],2)\n",
    "\n",
    "census['Income N'] = census.Income.str[1:]\n",
    "census['Income N'] = census['Income N'].replace(',','',regex=True)\n",
    "census['Income N'] = pd.to_numeric(census['Income N'])\n",
    "census['Income N'] = round(census['Income N'],2)\n",
    "\n",
    "GenderPop = census.GenderPop.str.split('_')\n",
    "census['MalePopulation'] = GenderPop.str.get(0)\n",
    "census['FemalePopulation'] = GenderPop.str.get(1)\n",
    "census.MalePopulation = census.MalePopulation.replace('M','',regex=True)\n",
    "census.FemalePopulation = census.FemalePopulation.replace('F','',regex=True)\n",
    "census['MalePopulation'] = pd.to_numeric(census['MalePopulation'])\n",
    "census['FemalePopulation'] = pd.to_numeric(census['FemalePopulation'])\n",
    "#print(census.dtypes)\n",
    "#print(census.head())\n",
    "\n",
    "#plt.scatter(census.FemalePopulation,census.MalePopulation)\n",
    "#plt.show()\n",
    "#plt.close()\n",
    "#print(census.isna())\n",
    "census = census.fillna(value={'FemalePopulation':census.TotalPop - census.MalePopulation,'Percentage Numerical':census['Percentage Numerical'].mean()})\n",
    "#print(census)\n",
    "#print(census.duplicated())\n",
    "census = census.drop_duplicates()\n",
    "#plt.scatter(census.MalePopulation,census.FemalePopulation)\n",
    "#plt.show()\n",
    "#plt.close()\n",
    "\n",
    "#plt.hist(census['Percentage Numerical'],bins = 40, linewidth = 1,edgecolor='black')\n",
    "#plt.show()\n",
    "print(census.head())\n",
    "print(census.dtypes)\n",
    "print(census.columns)"
   ]
  }
 ],
 "metadata": {
  "kernelspec": {
   "display_name": "Python 3.10.5 64-bit",
   "language": "python",
   "name": "python3"
  },
  "language_info": {
   "codemirror_mode": {
    "name": "ipython",
    "version": 3
   },
   "file_extension": ".py",
   "mimetype": "text/x-python",
   "name": "python",
   "nbconvert_exporter": "python",
   "pygments_lexer": "ipython3",
   "version": "3.10.5"
  },
  "orig_nbformat": 4,
  "vscode": {
   "interpreter": {
    "hash": "e0aaccdb41bd40a420e7c4e36c68aa34bb287946cdb216f66f5c9bcb7cb43076"
   }
  }
 },
 "nbformat": 4,
 "nbformat_minor": 2
}
